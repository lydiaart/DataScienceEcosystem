{
 "cells": [
  {
   "cell_type": "markdown",
   "id": "e0db3048-2361-46cb-a209-f62e05a3a1ba",
   "metadata": {},
   "source": [
    "# Data Science Tools and Ecosystem"
   ]
  },
  {
   "cell_type": "markdown",
   "id": "142b9508-7a8b-4c62-b783-75f627bc710f",
   "metadata": {},
   "source": [
    "In this notebook, Data Science Tools and Ecosystem are summarized."
   ]
  },
  {
   "cell_type": "markdown",
   "id": "8d04122c-a8a6-4e2d-8f70-d3fa662e10f3",
   "metadata": {},
   "source": [
    "Some of the popular languages that Data Scientists use are:\n",
    "    <ol>\n",
    "    <li>Python</li>\n",
    "    <li>R</li>\n",
    "    <li>SQL</li>\n",
    "    </ol>"
   ]
  },
  {
   "cell_type": "markdown",
   "id": "20c1a149-22f6-43c4-9cc5-07199daa460e",
   "metadata": {},
   "source": [
    "Some of the commonly used libraries used by Data Scientists include:\n",
    "    <ol>\n",
    "    <li>TensorFlow</li>\n",
    "    <li>Numpy</li>\n",
    "    <li>Pandas</li>\n",
    "    </ol>"
   ]
  },
  {
   "cell_type": "markdown",
   "id": "db2252e2-fd8b-42f8-8b15-b55ee72a34d3",
   "metadata": {},
   "source": [
    "<table style=\"width:80%\">\n",
    "<tr>\n",
    "<th>Data Science Tools</th>\n",
    "</tr>\n",
    "\n",
    "<tr>\n",
    "<td>Jupyter Notebooks</td>\n",
    "</tr>\n",
    "\n",
    "<tr>\n",
    "<td>Pytorch</td>\n",
    "</tr>\n",
    "\n",
    "<tr>\n",
    "<td>MLFlow</td>\n",
    "</tr>\n",
    "</table>\n",
    "\n"
   ]
  },
  {
   "cell_type": "markdown",
   "id": "e547fdcc-d39e-4369-a7c9-1d0f248af2b9",
   "metadata": {},
   "source": [
    "### Below are a few examples of evaluating arithmetic expressions in Python."
   ]
  },
  {
   "cell_type": "markdown",
   "id": "f367f5d7-3952-4f44-bf94-23322be6a66f",
   "metadata": {},
   "source": [
    "This is a simple arithmetic expression to mutiply then add integers.\n",
    "\n",
    "x = 3\n",
    "\n",
    "y = 4\n",
    "\n",
    "z = 5\n",
    "\n",
    "print(3 * 4 + 5)"
   ]
  },
  {
   "cell_type": "markdown",
   "id": "e55b2961-202a-4b30-b1ed-f298e2e5e559",
   "metadata": {},
   "source": [
    "17"
   ]
  },
  {
   "cell_type": "markdown",
   "id": "6ed9ccc6-92b9-4b3c-abba-ee91536f41bf",
   "metadata": {},
   "source": [
    "This will convert 200 minutes to hours by dividing by 60.\n",
    "\n",
    "total_minutes = 200\n",
    "\n",
    "hours = total_minutes % 60\n",
    "\n",
    "time_string = \"{}:{}\".format(hours, minutes)\n",
    "\n",
    "print(time_string)"
   ]
  },
  {
   "cell_type": "markdown",
   "id": "1e2d533d-8469-4b82-b29c-51237cd18bfd",
   "metadata": {},
   "source": [
    "3:20"
   ]
  },
  {
   "cell_type": "markdown",
   "id": "f906cc12-3c35-40a5-8232-8a95320a180d",
   "metadata": {},
   "source": [
    "**Objectives**\n",
    "<ul>\n",
    "<li>Python</li>\n",
    "<li>R</li>\n",
    "<li>SQL</li>\n",
    "<li>Julia</li>\n",
    "<li>Java</li>\n",
    "</ul>"
   ]
  },
  {
   "cell_type": "markdown",
   "id": "26933832-8bd7-48de-a20b-c6275a435cbb",
   "metadata": {},
   "source": [
    "## Author\n",
    "\n",
    "Lakshmi Holla\n",
    "\n",
    "Niveditha Pandith\n",
    "\n",
    "Lydia Li"
   ]
  },
  {
   "cell_type": "code",
   "execution_count": null,
   "id": "ee1b665a-eac9-4d17-871b-aa6b89c51dc6",
   "metadata": {},
   "outputs": [],
   "source": []
  }
 ],
 "metadata": {
  "kernelspec": {
   "display_name": "Python",
   "language": "python",
   "name": "conda-env-python-py"
  },
  "language_info": {
   "codemirror_mode": {
    "name": "ipython",
    "version": 3
   },
   "file_extension": ".py",
   "mimetype": "text/x-python",
   "name": "python",
   "nbconvert_exporter": "python",
   "pygments_lexer": "ipython3",
   "version": "3.7.12"
  },
  "toc-autonumbering": false,
  "toc-showmarkdowntxt": true
 },
 "nbformat": 4,
 "nbformat_minor": 5
}
